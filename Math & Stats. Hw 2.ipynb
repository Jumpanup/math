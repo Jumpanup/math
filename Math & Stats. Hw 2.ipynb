{
 "cells": [
  {
   "cell_type": "markdown",
   "metadata": {},
   "source": [
    "# Теория вероятностей и математическая статистика, урок 2. Трофимов Артем."
   ]
  },
  {
   "cell_type": "code",
   "execution_count": 11,
   "metadata": {},
   "outputs": [],
   "source": [
    "import numpy as np\n",
    "import math"
   ]
  },
  {
   "cell_type": "code",
   "execution_count": 12,
   "metadata": {},
   "outputs": [],
   "source": [
    "# формула подсчета комбинаций из предыдущего урока\n",
    "def combinations(n, k):\n",
    "    return int(math.factorial(n) / (math.factorial(k) * math.factorial(n - k)))\n",
    "\n",
    "# формула размещения для 4-ой задачи\n",
    "def arrangements(n,k):\n",
    "    return int(math.factorial(n) / math.factorial(n - k))"
   ]
  },
  {
   "cell_type": "code",
   "execution_count": 33,
   "metadata": {},
   "outputs": [],
   "source": [
    "# число Эйлера\n",
    "e = 2.72"
   ]
  },
  {
   "cell_type": "markdown",
   "metadata": {},
   "source": [
    "Задание 1. Вероятность того, что стрелок попадет в мишень, выстрелив один раз, равна 0.8. Стрелок выстрелил 100 раз. Найдите вероятность того, что стрелок попадет в цель ровно 85 раз."
   ]
  },
  {
   "cell_type": "code",
   "execution_count": 36,
   "metadata": {},
   "outputs": [
    {
     "data": {
      "text/plain": [
       "5.674135091975046e-51"
      ]
     },
     "execution_count": 36,
     "metadata": {},
     "output_type": "execute_result"
    }
   ],
   "source": [
    "# данную задачу будем решать уравнением Бернулли, потому что:\n",
    "# величина дискретная\n",
    "# надо найти как часто будет событие попаданий 85 раз из 100\n",
    "# небольшое кол-во испытаний \n",
    "# вероятность 1 события высокая\n",
    "\n",
    "n = 100\n",
    "p = 0.8\n",
    "q = 0.2\n",
    "k = 85\n",
    "\n",
    "c = combinations(100,85)\n",
    "pk = p ** k\n",
    "qk = q ** k\n",
    "res = c * pk * qk\n",
    "res # сомневаюсь в правильности решения"
   ]
  },
  {
   "cell_type": "markdown",
   "metadata": {},
   "source": [
    "Задание 2. Вероятность того, что лампочка перегорит в течение первого дня эксплуатации, равна 0.0004. В жилом комплексе после ремонта в один день включили 5000 новых лампочек. Какова вероятность, что ни одна из них не перегорит в первый день? Какова вероятность, что перегорят ровно две?"
   ]
  },
  {
   "cell_type": "code",
   "execution_count": 57,
   "metadata": {},
   "outputs": [],
   "source": [
    "# рашаем через распределение Пуассона\n",
    "\n",
    "m0 = 0\n",
    "m2 = 2\n",
    "l = 0.0004 * 5000\n",
    "\n",
    "p_0 = ((l ** m0)/math.factorial(m0))* (e ** -m0)\n",
    "p_2 = ((l ** m2)/math.factorial(m2))* (e ** -m2)"
   ]
  },
  {
   "cell_type": "code",
   "execution_count": 58,
   "metadata": {},
   "outputs": [
    {
     "data": {
      "text/plain": [
       "1.0"
      ]
     },
     "execution_count": 58,
     "metadata": {},
     "output_type": "execute_result"
    }
   ],
   "source": [
    "p_0 # вероятность, что ни одна из лампочек не перегорит = 100%, я сомневаюсь в корректности"
   ]
  },
  {
   "cell_type": "code",
   "execution_count": 59,
   "metadata": {},
   "outputs": [
    {
     "data": {
      "text/plain": [
       "0.27032871972318334"
      ]
     },
     "execution_count": 59,
     "metadata": {},
     "output_type": "execute_result"
    }
   ],
   "source": [
    "p_2 # вероятность, что перегорит 2 лампочки = 27%, что похоже на правду наверное"
   ]
  },
  {
   "cell_type": "markdown",
   "metadata": {},
   "source": [
    "Задание 3. Монету подбросили 144 раза. Какова вероятность, что орел выпадет ровно 70 раз?"
   ]
  },
  {
   "cell_type": "code",
   "execution_count": 64,
   "metadata": {},
   "outputs": [
    {
     "data": {
      "text/plain": [
       "1.0049884856231641"
      ]
     },
     "execution_count": 64,
     "metadata": {},
     "output_type": "execute_result"
    }
   ],
   "source": [
    "# Делаем по формуле Бернулли\n",
    "\n",
    "n = 144\n",
    "p = 0.5\n",
    "q = 0.5\n",
    "k = 70\n",
    "\n",
    "c = combinations(144,70)\n",
    "pk = p ** k\n",
    "qk = q ** k\n",
    "res = c * pk * qk\n",
    "res # вероятность выпадения орла 100,4%"
   ]
  },
  {
   "cell_type": "markdown",
   "metadata": {},
   "source": [
    "Задание 4. В первом ящике находится 10 мячей, из которых 7 - белые. Во втором ящике - 11 мячей, из которых 9 белых. Из каждого ящика вытаскивают случайным образом по два мяча. Какова вероятность того, что все мячи белые? Какова вероятность того, что ровно два мяча белые? Какова вероятность того, что хотя бы один мяч белый?"
   ]
  },
  {
   "cell_type": "code",
   "execution_count": 7,
   "metadata": {},
   "outputs": [
    {
     "data": {
      "text/plain": [
       "0.2722222222222222"
      ]
     },
     "execution_count": 7,
     "metadata": {},
     "output_type": "execute_result"
    }
   ],
   "source": [
    "# Первая часть:\n",
    "\n",
    "# Найдем вероятность каждого из событий, где a - это первый ящик; b - второй ящик.\n",
    "\n",
    "a1 = 7/10\n",
    "a2 = 6/9\n",
    "\n",
    "b1 = 7/9\n",
    "b2 = 6/8\n",
    "\n",
    "# перемножаем вероятности, получаем вероятность в 27 % для вытаскивания всех белых шаров из двух ящиков\n",
    "pa = a1 * a2 * b1 * b2\n",
    "pa"
   ]
  },
  {
   "cell_type": "code",
   "execution_count": null,
   "metadata": {},
   "outputs": [],
   "source": [
    "# какова вероятнось, что два мяча белые\n",
    "\n"
   ]
  },
  {
   "cell_type": "code",
   "execution_count": 9,
   "metadata": {},
   "outputs": [],
   "source": [
    "# какова вероятность, что есть хотя бы 1 белый мяч\n"
   ]
  },
  {
   "cell_type": "code",
   "execution_count": null,
   "metadata": {},
   "outputs": [],
   "source": []
  },
  {
   "cell_type": "code",
   "execution_count": null,
   "metadata": {},
   "outputs": [],
   "source": []
  },
  {
   "cell_type": "code",
   "execution_count": null,
   "metadata": {},
   "outputs": [],
   "source": []
  },
  {
   "cell_type": "code",
   "execution_count": null,
   "metadata": {},
   "outputs": [],
   "source": []
  },
  {
   "cell_type": "code",
   "execution_count": null,
   "metadata": {},
   "outputs": [],
   "source": []
  }
 ],
 "metadata": {
  "kernelspec": {
   "display_name": "Python 3",
   "language": "python",
   "name": "python3"
  },
  "language_info": {
   "codemirror_mode": {
    "name": "ipython",
    "version": 3
   },
   "file_extension": ".py",
   "mimetype": "text/x-python",
   "name": "python",
   "nbconvert_exporter": "python",
   "pygments_lexer": "ipython3",
   "version": "3.7.6"
  }
 },
 "nbformat": 4,
 "nbformat_minor": 4
}
