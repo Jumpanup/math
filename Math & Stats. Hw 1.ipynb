{
 "cells": [
  {
   "cell_type": "markdown",
   "metadata": {},
   "source": [
    "# Теория вероятностей и математическая статистика, урок 1. Трофимов Артем."
   ]
  },
  {
   "cell_type": "code",
   "execution_count": 119,
   "metadata": {},
   "outputs": [],
   "source": [
    "import numpy as np\n",
    "import math"
   ]
  },
  {
   "cell_type": "markdown",
   "metadata": {},
   "source": [
    "Задание 1.\n",
    "Из колоды в 52 карты извлекаются случайным образом 4 карты. a) Найти вероятность того, что все карты – крести. б) Найти вероятность, что среди 4-х карт окажется хотя бы один туз."
   ]
  },
  {
   "cell_type": "markdown",
   "metadata": {},
   "source": [
    "Пункт А. "
   ]
  },
  {
   "cell_type": "code",
   "execution_count": 124,
   "metadata": {
    "scrolled": true
   },
   "outputs": [],
   "source": [
    "# переменные deck - колода, clubs  крести, ace - тузы\n",
    "deck = 52\n",
    "clubs = 13"
   ]
  },
  {
   "cell_type": "code",
   "execution_count": 125,
   "metadata": {},
   "outputs": [
    {
     "name": "stdout",
     "output_type": "stream",
     "text": [
      "0.0026410564225690276\n",
      "0.0026410564225690276\n"
     ]
    }
   ],
   "source": [
    "#найдем вероятность выпадения 1 крести\n",
    "c1 = clubs / deck\n",
    "\n",
    "#найдем вероятности выпадения каждой последующей крести, каждый раз колода уменьшается и кол-во крестей тоже\n",
    "c2 = (clubs - 1) / (deck - 1)\n",
    "c3 = (clubs - 2) / (deck - 2)\n",
    "c4 = (clubs - 3) / (deck - 3)\n",
    "\n",
    "c_chance = c1 * c2 * c3 * c4\n",
    "\n",
    "#сдлеаем тоже самое, только циклом\n",
    "\n",
    "counter_deck = deck\n",
    "counter_club = clubs\n",
    "chance = 1\n",
    "i = deck \n",
    "\n",
    "while i >= 49:\n",
    "    chance = counter_club / counter_deck * chance\n",
    "    counter_deck = counter_deck - 1\n",
    "    counter_club = counter_club - 1\n",
    "    i -= 1\n",
    "\n",
    "\n",
    "print(chance)\n",
    "print(c_chance)"
   ]
  },
  {
   "cell_type": "code",
   "execution_count": 126,
   "metadata": {},
   "outputs": [
    {
     "data": {
      "text/plain": [
       "0.0026410564225690276"
      ]
     },
     "execution_count": 126,
     "metadata": {},
     "output_type": "execute_result"
    }
   ],
   "source": [
    "#попробуем написать функцию на поиск вероятности выпадения одной масти несколько раз подряд\n",
    "\n",
    "def chance_cards(v):\n",
    "    \n",
    "    deck = 52\n",
    "    clubs = 13\n",
    "    chance = 1\n",
    "\n",
    "    if type(v) == int and v > 0 and v < 14:\n",
    "        try:\n",
    "            while v > 0:\n",
    "                chance = (clubs / deck) * chance\n",
    "                deck = deck - 1\n",
    "                clubs = clubs - 1\n",
    "                v -= 1\n",
    "        except TypeError:\n",
    "            print('Допускаются только целые натуральные числа')  \n",
    "        return chance\n",
    "    else:\n",
    "        print('Введите целое натуральное число менее 14')\n",
    "\n",
    "mych = chance_cards(4)\n",
    "mych"
   ]
  },
  {
   "cell_type": "code",
   "execution_count": 128,
   "metadata": {},
   "outputs": [
    {
     "data": {
      "text/plain": [
       "0.0026410564225690276"
      ]
     },
     "execution_count": 128,
     "metadata": {},
     "output_type": "execute_result"
    }
   ],
   "source": [
    "#теперь решим через модуль math\n",
    "def combinations(n, k):\n",
    "    return int(math.factorial(n) / (math.factorial(k) * math.factorial(n - k)))\n",
    "\n",
    "#всего комбинаций 4х карт: \n",
    "comb = combinations(52,4)\n",
    "\n",
    "#кобинаций крестей\n",
    "clubs = combinations(13,4)\n",
    "\n",
    "chance_math = clubs / comb\n",
    "chance_math"
   ]
  },
  {
   "cell_type": "markdown",
   "metadata": {},
   "source": [
    "Пункт Б."
   ]
  },
  {
   "cell_type": "code",
   "execution_count": 134,
   "metadata": {},
   "outputs": [
    {
     "data": {
      "text/plain": [
       "0.28846153846153844"
      ]
     },
     "execution_count": 134,
     "metadata": {},
     "output_type": "execute_result"
    }
   ],
   "source": [
    "#Найдем кол-во комбинаций тузов\n",
    "a1 = combinations(4,1)\n",
    "a2 = combinations(4,2)\n",
    "a3 = combinations(4,3)\n",
    "a4 = combinations(4,4)\n",
    "\n",
    "a = a1 + a2 + a3 + a4\n",
    "\n",
    "#Вероятность того, что нам попадет 1 из тузов на руки найдем по формуле классической вероятности\n",
    "b = a / 52\n",
    "b"
   ]
  },
  {
   "cell_type": "markdown",
   "metadata": {},
   "source": [
    "Задание 2. На входной двери подъезда установлен кодовый замок, содержащий десять кнопок с цифрами от 0 до 9. Код содержит три цифры, которые нужно нажать одновременно. Какова вероятность того, что человек, не знающий код, откроет дверь с первой попытки?"
   ]
  },
  {
   "cell_type": "code",
   "execution_count": 152,
   "metadata": {},
   "outputs": [
    {
     "data": {
      "text/plain": [
       "0.058333333333333334"
      ]
     },
     "execution_count": 152,
     "metadata": {},
     "output_type": "execute_result"
    }
   ],
   "source": [
    "#найдем кол-во комбинаций из трех цифр\n",
    "n1 = combinations(3,1)\n",
    "n2 = combinations(3,2)\n",
    "n3 = combinations(3,3)\n",
    "\n",
    "n = n1 + n2 + n3\n",
    "\n",
    "#найдем всего комбинаций из трех цифр из табло в 10 цифр\n",
    "k = combinations(10,3)\n",
    "\n",
    "#по формуле классической вероятности вычислим вероятность нашего события\n",
    "p = n / k\n",
    "p"
   ]
  },
  {
   "cell_type": "markdown",
   "metadata": {},
   "source": [
    "Задание 3. В ящике имеется 15 деталей, из которых 9 окрашены. Рабочий случайным образом извлекает 3 детали. Какова вероятность того, что все извлеченные детали окрашены?"
   ]
  },
  {
   "cell_type": "code",
   "execution_count": 160,
   "metadata": {},
   "outputs": [
    {
     "data": {
      "text/plain": [
       "0.5699633699633699"
      ]
     },
     "execution_count": 160,
     "metadata": {},
     "output_type": "execute_result"
    }
   ],
   "source": [
    "#вероятность достать окрашенную деталь в первый раз и каждый последующий, из всего 3-х попыток (у каждой вес по 1/3)\n",
    "#рассчитаем по формуле полной вероятности\n",
    "qnt = 1 / 3\n",
    "e1 = 9 / 15\n",
    "e2 = 8 / 14\n",
    "e3 = 7 / 13\n",
    "\n",
    "e = qnt * e1 + qnt * e2 + qnt * e3\n",
    "e"
   ]
  },
  {
   "cell_type": "markdown",
   "metadata": {},
   "source": [
    "Задание 4. В лотерее 100 билетов. Из них 2 выигрышных. Какова вероятность того, что 2 приобретенных билета окажутся выигрышными?"
   ]
  },
  {
   "cell_type": "code",
   "execution_count": 166,
   "metadata": {},
   "outputs": [
    {
     "data": {
      "text/plain": [
       "0.00040404040404040404"
      ]
     },
     "execution_count": 166,
     "metadata": {},
     "output_type": "execute_result"
    }
   ],
   "source": [
    "#найдем количество комбинаций выигрышных двух из 100 билетов\n",
    "tickets = combinations(100,2)\n",
    "\n",
    "win_chance = 2 / tickets\n",
    "win_chance"
   ]
  }
 ],
 "metadata": {
  "kernelspec": {
   "display_name": "Python 3",
   "language": "python",
   "name": "python3"
  },
  "language_info": {
   "codemirror_mode": {
    "name": "ipython",
    "version": 3
   },
   "file_extension": ".py",
   "mimetype": "text/x-python",
   "name": "python",
   "nbconvert_exporter": "python",
   "pygments_lexer": "ipython3",
   "version": "3.7.6"
  }
 },
 "nbformat": 4,
 "nbformat_minor": 4
}
